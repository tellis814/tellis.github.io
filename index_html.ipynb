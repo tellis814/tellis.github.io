{
  "nbformat": 4,
  "nbformat_minor": 0,
  "metadata": {
    "colab": {
      "provenance": []
    },
    "kernelspec": {
      "name": "python3",
      "display_name": "Python 3"
    },
    "language_info": {
      "name": "python"
    }
  },
  "cells": [
    {
      "cell_type": "markdown",
      "source": [
        "<!DOCTYPE html>\n",
        "<html>\n",
        "<title>Thomas Ellis's Homepage</title>\n",
        "<body>\n",
        "<h1>This is an HTML heading</h1>\n",
        "<h2>Thomas Ellis</h2>\n",
        "<i>I am italic</i>  \n",
        "<b>I am bold</b>  \n",
        "<a href=\"https://niagara.edu\">NU link</a>  \n",
        "<br>  \n",
        "<img src=\"https://www.courseseye.com/universitylogos/6231.jpg\">\n",
        "</body>\n",
        "</html>\n"
      ],
      "metadata": {
        "id": "fpzZ0cL-K86a"
      }
    }
  ]
}